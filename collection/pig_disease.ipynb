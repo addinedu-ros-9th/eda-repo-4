{
 "cells": [
  {
   "cell_type": "code",
   "execution_count": 5,
   "metadata": {},
   "outputs": [],
   "source": [
    "from selenium import webdriver\n",
    "from selenium.webdriver.chrome.options import Options\n",
    "\n",
    "driver = webdriver.Chrome(options=Options())\n",
    "url = \"https://www.mafra.go.kr/FMD-AI2/map/ASF/ASF_map.jsp\"\n",
    "driver.get(url)\n",
    "driver.maximize_window()\n",
    "\n"
   ]
  },
  {
   "cell_type": "code",
   "execution_count": 16,
   "metadata": {},
   "outputs": [],
   "source": [
    "from selenium.webdriver.common.by import By\n",
    "\n",
    "driver.find_element(By.ID, \"selectYear\").click()\n",
    "driver.find_element(By.ID, \"selectYear\").send_keys(\"2019년\")\n"
   ]
  },
  {
   "cell_type": "code",
   "execution_count": 41,
   "metadata": {},
   "outputs": [
    {
     "name": "stdout",
     "output_type": "stream",
     "text": [
      "14\n",
      "2\n",
      "5\n",
      "7\n",
      "10\n"
     ]
    }
   ],
   "source": [
    "import time\n",
    "years = [2019, 2020, 2021, 2022, 2023]\n",
    "africa_disease_number = []\n",
    "for y in years:\n",
    "    driver.find_element(By.ID, \"selectYear\").click()\n",
    "    time.sleep(0.5)  # Add a short delay to ensure the dropdown is ready\n",
    "    options = driver.find_element(By.ID, \"selectYear\").find_elements(By.TAG_NAME, \"option\")\n",
    "    for option in options:\n",
    "        if option.text == f\"{y}년\":\n",
    "            option.click()\n",
    "            break\n",
    "    tmp_number = driver.find_element(By.CLASS_NAME, \"count\").find_element(By.TAG_NAME, \"strong\").text\n",
    "    print(tmp_number)\n",
    "    africa_disease_number.append(tmp_number)"
   ]
  },
  {
   "cell_type": "code",
   "execution_count": 42,
   "metadata": {},
   "outputs": [
    {
     "name": "stdout",
     "output_type": "stream",
     "text": [
      "3\n",
      "0\n",
      "0\n",
      "0\n",
      "11\n"
     ]
    }
   ],
   "source": [
    "gujaeyeok_number = []\n",
    "for y in years:\n",
    "    driver.find_element(By.ID, \"selectYear\").click()\n",
    "    time.sleep(0.5)  # Add a short delay to ensure the dropdown is ready\n",
    "    options = driver.find_element(By.ID, \"selectYear\").find_elements(By.TAG_NAME, \"option\")\n",
    "    for option in options:\n",
    "        if option.text == f\"{y}년\":\n",
    "            option.click()\n",
    "            break\n",
    "    tmp_number = driver.find_element(By.CLASS_NAME, \"count\").find_element(By.TAG_NAME, \"strong\").text\n",
    "    print(tmp_number)\n",
    "    gujaeyeok_number.append(tmp_number)\n"
   ]
  },
  {
   "cell_type": "code",
   "execution_count": 43,
   "metadata": {},
   "outputs": [],
   "source": [
    "import mysql.connector\n",
    "\n",
    "remote = mysql.connector.connect(\n",
    "    host = \"database-1.cba44miw26by.ap-northeast-2.rds.amazonaws.com\",\n",
    "    port = 3306,\n",
    "    user = \"cwh\",\n",
    "    password = \"0000\",\n",
    "    database = \"pig\"\n",
    ")"
   ]
  },
  {
   "cell_type": "code",
   "execution_count": 44,
   "metadata": {},
   "outputs": [],
   "source": [
    "cur = remote.cursor()"
   ]
  },
  {
   "cell_type": "code",
   "execution_count": 51,
   "metadata": {},
   "outputs": [
    {
     "name": "stdout",
     "output_type": "stream",
     "text": [
      "2019 14 3\n",
      "2020 2 0\n",
      "2021 5 0\n",
      "2022 7 0\n",
      "2023 10 11\n"
     ]
    }
   ],
   "source": [
    "cur.execute('DELETE FROM disease_number')\n",
    "for i, y in enumerate(years):\n",
    "    cur.execute(f\"\"\"\n",
    "                    INSERT INTO\n",
    "                        disease_number\n",
    "                    VALUES ({y}, {africa_disease_number[i]}, {gujaeyeok_number[i]}) \n",
    "                \"\"\")\n",
    "    print(y, africa_disease_number[i], gujaeyeok_number[i])"
   ]
  },
  {
   "cell_type": "code",
   "execution_count": 52,
   "metadata": {},
   "outputs": [],
   "source": [
    "remote.commit()"
   ]
  }
 ],
 "metadata": {
  "kernelspec": {
   "display_name": ".venv",
   "language": "python",
   "name": "python3"
  },
  "language_info": {
   "codemirror_mode": {
    "name": "ipython",
    "version": 3
   },
   "file_extension": ".py",
   "mimetype": "text/x-python",
   "name": "python",
   "nbconvert_exporter": "python",
   "pygments_lexer": "ipython3",
   "version": "3.10.12"
  }
 },
 "nbformat": 4,
 "nbformat_minor": 2
}
