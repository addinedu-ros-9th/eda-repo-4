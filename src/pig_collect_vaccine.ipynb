{
 "cells": [
  {
   "cell_type": "markdown",
   "metadata": {},
   "source": [
    "# 양돈 모돈 데이터 파일 전처리 및 시각화"
   ]
  },
  {
   "cell_type": "code",
   "execution_count": 4,
   "metadata": {},
   "outputs": [],
   "source": [
    "import pandas as pd\n",
    "\n",
    "# 데이터 불러오기\n",
    "file_path = \"../../data/2023년 양돈 모돈 데이터.csv\"\n",
    "df = pd.read_csv(file_path)"
   ]
  },
  {
   "cell_type": "code",
   "execution_count": 5,
   "metadata": {},
   "outputs": [
    {
     "data": {},
     "execution_count": 5,
     "metadata": {},
     "output_type": "execute_result"
    }
   ],
   "source": [
    "df"
   ]
  },
  {
   "cell_type": "code",
   "execution_count": 6,
   "metadata": {},
   "outputs": [],
   "source": [
    "# 날짜 변환\n",
    "df['분만일'] = pd.to_datetime(df['분만일'], format='%Y%m%d', errors='coerce')\n",
    "\n",
    "# 연도, 월, 계절 컬럼 추가\n",
    "df['연도'] = df['분만일'].dt.year\n",
    "df['월'] = df['분만일'].dt.month"
   ]
  },
  {
   "cell_type": "code",
   "execution_count": 7,
   "metadata": {},
   "outputs": [
    {
     "data": {},
     "execution_count": 7,
     "metadata": {},
     "output_type": "execute_result"
    }
   ],
   "source": [
    "df"
   ]
  },
  {
   "cell_type": "code",
   "execution_count": 8,
   "metadata": {},
   "outputs": [],
   "source": [
    "# 계절 매핑\n",
    "def get_season(month):\n",
    "    if month in [3, 4, 5]:\n",
    "        return '봄'\n",
    "    elif month in [6, 7, 8]:\n",
    "        return '여름'\n",
    "    elif month in [9, 10, 11]:\n",
    "        return '가을'\n",
    "    else:\n",
    "        return '겨울'\n",
    "\n",
    "df['계절'] = df['월'].apply(get_season)"
   ]
  },
  {
   "cell_type": "code",
   "execution_count": 9,
   "metadata": {},
   "outputs": [
    {
     "data": {},
     "execution_count": 9,
     "metadata": {},
     "output_type": "execute_result"
    }
   ],
   "source": [
    "df"
   ]
  },
  {
   "cell_type": "code",
   "execution_count": 10,
   "metadata": {},
   "outputs": [],
   "source": [
    "# 분석 대상 컬럼 중 일부 NaN 제거\n",
    "df_filtered = df.dropna(subset=['실산자수', '이유두수'])\n",
    "\n",
    "# 산차별 실산자수/이유두수 평균\n",
    "by_parity = df_filtered.groupby('산차')[['실산자수', '이유두수']].mean().reset_index()\n",
    "\n",
    "# 월별 실산자수/이유두수 평균\n",
    "by_month = df_filtered.groupby('월')[['실산자수', '이유두수']].mean().reset_index()\n",
    "\n",
    "# 계절별 실산자수/이유두수 평균\n",
    "by_season = df_filtered.groupby('계절')[['실산자수', '이유두수']].mean().reset_index()\n",
    "# 계절 순서 재정렬: 봄 → 여름 → 가을 → 겨울\n",
    "season_order = ['겨울', '봄', '여름', '가을']\n",
    "by_season_sorted = by_season.set_index('계절').loc[season_order].reset_index()"
   ]
  },
  {
   "cell_type": "code",
   "execution_count": 11,
   "metadata": {},
   "outputs": [
    {
     "data": {},
     "execution_count": 11,
     "metadata": {},
     "output_type": "execute_result"
    }
   ],
   "source": [
    "by_parity"
   ]
  },
  {
   "cell_type": "code",
   "execution_count": 12,
   "metadata": {},
   "outputs": [],
   "source": [
    "import matplotlib.pyplot as plt\n",
    "import koreanize_matplotlib"
   ]
  },
  {
   "cell_type": "code",
   "execution_count": 13,
   "metadata": {},
   "outputs": [],
   "source": [
    "def plot_grouped_data(df, x, y_list, title):\n",
    "    for y in y_list:\n",
    "        plt.plot(df[x], df[y], marker='.', label=y)\n",
    "    plt.title(title)\n",
    "    plt.xlabel(x)\n",
    "    plt.ylabel('두수')\n",
    "    plt.legend()\n",
    "    plt.grid(True)\n",
    "    plt.show()"
   ]
  },
  {
   "cell_type": "code",
   "execution_count": 14,
   "metadata": {},
   "outputs": [
    {
     "data": {},
     "metadata": {},
     "output_type": "display_data"
    }
   ],
   "source": [
    "# 시각화 출력\n",
    "plot_grouped_data(by_parity, '산차', ['실산자수', '이유두수'], '산차에 따른 번식 성적 (실산자수 / 이유두수)')"
   ]
  },
  {
   "cell_type": "code",
   "execution_count": 15,
   "metadata": {},
   "outputs": [
    {
     "data": {},
     "metadata": {},
     "output_type": "display_data"
    }
   ],
   "source": [
    "plot_grouped_data(by_month, '월', ['실산자수', '이유두수'], '월별 번식 성적 (실산자수 / 이유두수)')"
   ]
  },
  {
   "cell_type": "code",
   "execution_count": 16,
   "metadata": {},
   "outputs": [
    {
     "data": {},
     "metadata": {},
     "output_type": "display_data"
    }
   ],
   "source": [
    "plot_grouped_data(by_season_sorted, '계절', ['실산자수', '이유두수'], '계절별 번식 성적 (실산자수 / 이유두수)')"
   ]
  }
 ],
 "metadata": {
  "kernelspec": {
   "display_name": "eda_venv",
   "language": "python",
   "name": "python3"
  },
  "language_info": {
   "codemirror_mode": {
    "name": "ipython",
    "version": 3
   },
   "file_extension": ".py",
   "mimetype": "text/x-python",
   "name": "python",
   "nbconvert_exporter": "python",
   "pygments_lexer": "ipython3",
   "version": "3.10.12"
  }
 },
 "nbformat": 4,
 "nbformat_minor": 2
}
