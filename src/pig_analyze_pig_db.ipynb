{
 "cells": [
  {
   "cell_type": "code",
   "execution_count": null,
   "metadata": {},
   "outputs": [],
   "source": [
    "import mysql.connector\n",
    "\n",
    "conn = mysql.connector.connect(\n",
    "    host = 'database-1.cba44miw26by.ap-northeast-2.rds.amazonaws.com',\n",
    "    port = 3306,\n",
    "    user = 'kjy',\n",
    "    password = '0000',\n",
    "    database = 'pig'\n",
    ")\n",
    "\n",
    "cursor = conn.cursor(buffered=True)"
   ]
  },
  {
   "cell_type": "code",
   "execution_count": null,
   "metadata": {},
   "outputs": [],
   "source": [
    "import pandas as pd\n",
    "\n",
    "cols = ['id', '년도', '규모', '농장', '데이터구분', \\\n",
    "        '1월', '2월', '3월', '4월', '5월', '6월', '7월', '8월', '9월', '10월', '11월', '12월']\n",
    "\n",
    "cursor.execute('select * from pig_db')\n",
    "result = cursor.fetchall()\n",
    "df = pd.DataFrame(result)\n",
    "df.columns = cols\n",
    "df.head()\n"
   ]
  },
  {
   "cell_type": "code",
   "execution_count": null,
   "metadata": {},
   "outputs": [],
   "source": [
    "cursor.execute('''select distinct 데이터구분 from pig_db''')\n",
    "result = cursor.fetchall()\n",
    "distinct = [x[0] for x in result]\n",
    "print(distinct)"
   ]
  }
 ],
 "metadata": {
  "kernelspec": {
   "display_name": "eda_venv",
   "language": "python",
   "name": "python3"
  },
  "language_info": {
   "name": "python",
   "version": "3.10.12"
  }
 },
 "nbformat": 4,
 "nbformat_minor": 2
}
