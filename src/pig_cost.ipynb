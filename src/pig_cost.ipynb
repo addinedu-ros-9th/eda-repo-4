{
 "cells": [
  {
   "cell_type": "code",
   "execution_count": 1,
   "metadata": {},
   "outputs": [
    {
     "name": "stdout",
     "output_type": "stream",
     "text": [
      " 예상 총 투자 비용: 66,969,090원 (총 158마리 기준)\n"
     ]
    }
   ],
   "source": [
    "#예상 투자 비용 계산기\n",
    " \n",
    "import pandas as pd\n",
    "\n",
    "# 양돈업 투자 비용 계산기 함수\n",
    "def calculate_pig_farm_investment(\n",
    "    num_pigs,\n",
    "    cost_feed,\n",
    "    cost_building,\n",
    "    water_electricity_cost,\n",
    "    disease_control_cost,\n",
    "    vehicle_cost,\n",
    "    baby_pig_cost,\n",
    "    labor_cost,\n",
    "    manure_disposal_cost,\n",
    "    general_management_cost,\n",
    "    land_cost,\n",
    "    other_costs\n",
    "):\n",
    "    # 각 비용 항목 합산\n",
    "    total_cost = (\n",
    "        cost_feed + cost_building + water_electricity_cost +\n",
    "        disease_control_cost + vehicle_cost + baby_pig_cost + labor_cost +\n",
    "        manure_disposal_cost + general_management_cost + land_cost + other_costs\n",
    "    ) * num_pigs\n",
    "\n",
    "    return total_cost\n",
    "\n",
    "# 사용자 입력으로 투자비용 계산\n",
    "def main():\n",
    "    num_pigs = int(input(\"사육할 돼지 마리수를 입력하세요: \"))\n",
    "\n",
    "    total_investment = calculate_pig_farm_investment(\n",
    "        num_pigs=num_pigs,\n",
    "        cost_feed=238468,                # 마리당 사료비\n",
    "        cost_building=9644,              # 마리당 시설비\n",
    "        water_electricity_cost=7533,     # 마리당 수도광열비\n",
    "        disease_control_cost=10637,      # 마리당 방역치료비\n",
    "        vehicle_cost=1798,               # 마리당 차량비\n",
    "        baby_pig_cost=82075,             # 마리당 재료비\n",
    "        labor_cost=25482,                # 마리당 노동비\n",
    "        manure_disposal_cost=12405,      # 마리당 분뇨처리비\n",
    "        general_management_cost=2155,    # 마리당 일반관리비\n",
    "        land_cost=16779,                 # 마리당 토지비\n",
    "        other_costs=16879                # 마리당 기타비용\n",
    "    )\n",
    "\n",
    "    print(f\" 예상 총 투자 비용: {total_investment:,.0f}원 (총 {num_pigs}마리 기준)\")\n",
    "\n",
    "if __name__ == \"__main__\":\n",
    "    main()\n"
   ]
  },
  {
   "cell_type": "code",
   "execution_count": 2,
   "metadata": {},
   "outputs": [
    {
     "name": "stdout",
     "output_type": "stream",
     "text": [
      "🔍 추출된 값: 4,940\n",
      "(2,806)\n"
     ]
    }
   ],
   "source": [
    "#전국 평균 돼지 경락가격 (1kg당)\n",
    "\n",
    "from selenium import webdriver\n",
    "from selenium.webdriver.common.by import By\n",
    "from selenium.webdriver.chrome.service import Service\n",
    "from webdriver_manager.chrome import ChromeDriverManager\n",
    "import time\n",
    "\n",
    "# 1. 크롬 드라이버 설정\n",
    "options = webdriver.ChromeOptions()\n",
    "options.add_argument(\"--start-maximized\")\n",
    "driver = webdriver.Chrome(service=Service(ChromeDriverManager().install()), options=options)\n",
    "\n",
    "# 2. 대상 페이지 열기\n",
    "url = \"https://www.ekapepia.com/supPrice/auction/price/pigNew.do?menuSn=65&boardInfoNo=&userGroupType=39&searchStartDate=2025-03-25&searchEndDate=2025-03-25&pageType=main&gubunType=#!\"\n",
    "driver.get(url)\n",
    "\n",
    "# 3. 페이지 로딩 대기\n",
    "time.sleep(3)\n",
    "\n",
    "# 4. CSS 선택자로 요소 찾기\n",
    "try:\n",
    "    selector = \"#content > div.sub-in > section:nth-child(10) > div > div.table-basic.ofx > table > tbody > tr:nth-child(7) > td:nth-child(19)\"\n",
    "    element = driver.find_element(By.CSS_SELECTOR, selector)\n",
    "    value = element.text.strip()\n",
    "    print(\"🔍 추출된 값:\", value)\n",
    "except Exception as e:\n",
    "    print(\"❌ 요소를 찾을 수 없습니다:\", e)\n",
    "\n",
    "# 5. 드라이버 종료\n",
    "driver.quit()\n"
   ]
  }
 ],
 "metadata": {
  "kernelspec": {
   "display_name": ".venv",
   "language": "python",
   "name": "python3"
  },
  "language_info": {
   "codemirror_mode": {
    "name": "ipython",
    "version": 3
   },
   "file_extension": ".py",
   "mimetype": "text/x-python",
   "name": "python",
   "nbconvert_exporter": "python",
   "pygments_lexer": "ipython3",
   "version": "3.10.12"
  }
 },
 "nbformat": 4,
 "nbformat_minor": 2
}
